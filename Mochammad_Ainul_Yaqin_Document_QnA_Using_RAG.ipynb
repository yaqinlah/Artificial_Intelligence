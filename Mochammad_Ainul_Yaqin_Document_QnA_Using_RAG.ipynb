{
  "nbformat": 4,
  "nbformat_minor": 0,
  "metadata": {
    "colab": {
      "provenance": []
    },
    "kernelspec": {
      "name": "python3",
      "display_name": "Python 3"
    },
    "language_info": {
      "name": "python"
    }
  },
  "cells": [
    {
      "cell_type": "code",
      "execution_count": 1,
      "metadata": {
        "id": "nRFH3VtFXsBt"
      },
      "outputs": [],
      "source": [
        "!pip install faiss-cpu groq PyPDF2 pypdf google-cloud-aiplatform>=1.38"
      ]
    },
    {
      "cell_type": "code",
      "source": [
        "!pip install langchain langchain_google_genai langchain_community langchain-groq"
      ],
      "metadata": {
        "colab": {
          "base_uri": "https://localhost:8080/"
        },
        "id": "6pKY4F26ZE56",
        "outputId": "8b85fabc-7233-43be-bb02-bdc1290a047d"
      },
      "execution_count": 2,
      "outputs": [
        {
          "output_type": "stream",
          "name": "stdout",
          "text": [
            "Collecting langchain\n",
            "  Downloading langchain-0.2.16-py3-none-any.whl.metadata (7.1 kB)\n",
            "Collecting langchain_google_genai\n",
            "  Downloading langchain_google_genai-1.0.10-py3-none-any.whl.metadata (3.8 kB)\n",
            "Collecting langchain_community\n",
            "  Downloading langchain_community-0.2.16-py3-none-any.whl.metadata (2.7 kB)\n",
            "Collecting langchain-groq\n",
            "  Downloading langchain_groq-0.1.9-py3-none-any.whl.metadata (2.9 kB)\n",
            "Requirement already satisfied: PyYAML>=5.3 in /usr/local/lib/python3.10/dist-packages (from langchain) (6.0.2)\n",
            "Requirement already satisfied: SQLAlchemy<3,>=1.4 in /usr/local/lib/python3.10/dist-packages (from langchain) (2.0.32)\n",
            "Requirement already satisfied: aiohttp<4.0.0,>=3.8.3 in /usr/local/lib/python3.10/dist-packages (from langchain) (3.10.5)\n",
            "Requirement already satisfied: async-timeout<5.0.0,>=4.0.0 in /usr/local/lib/python3.10/dist-packages (from langchain) (4.0.3)\n",
            "Collecting langchain-core<0.3.0,>=0.2.38 (from langchain)\n",
            "  Downloading langchain_core-0.2.39-py3-none-any.whl.metadata (6.2 kB)\n",
            "Collecting langchain-text-splitters<0.3.0,>=0.2.0 (from langchain)\n",
            "  Downloading langchain_text_splitters-0.2.4-py3-none-any.whl.metadata (2.3 kB)\n",
            "Collecting langsmith<0.2.0,>=0.1.17 (from langchain)\n",
            "  Downloading langsmith-0.1.117-py3-none-any.whl.metadata (13 kB)\n",
            "Requirement already satisfied: numpy<2,>=1 in /usr/local/lib/python3.10/dist-packages (from langchain) (1.26.4)\n",
            "Requirement already satisfied: pydantic<3,>=1 in /usr/local/lib/python3.10/dist-packages (from langchain) (2.8.2)\n",
            "Requirement already satisfied: requests<3,>=2 in /usr/local/lib/python3.10/dist-packages (from langchain) (2.32.3)\n",
            "Collecting tenacity!=8.4.0,<9.0.0,>=8.1.0 (from langchain)\n",
            "  Downloading tenacity-8.5.0-py3-none-any.whl.metadata (1.2 kB)\n",
            "Requirement already satisfied: google-generativeai<0.8.0,>=0.7.0 in /usr/local/lib/python3.10/dist-packages (from langchain_google_genai) (0.7.2)\n",
            "Collecting dataclasses-json<0.7,>=0.5.7 (from langchain_community)\n",
            "  Downloading dataclasses_json-0.6.7-py3-none-any.whl.metadata (25 kB)\n",
            "Requirement already satisfied: groq<1,>=0.4.1 in /usr/local/lib/python3.10/dist-packages (from langchain-groq) (0.11.0)\n",
            "Requirement already satisfied: aiohappyeyeballs>=2.3.0 in /usr/local/lib/python3.10/dist-packages (from aiohttp<4.0.0,>=3.8.3->langchain) (2.4.0)\n",
            "Requirement already satisfied: aiosignal>=1.1.2 in /usr/local/lib/python3.10/dist-packages (from aiohttp<4.0.0,>=3.8.3->langchain) (1.3.1)\n",
            "Requirement already satisfied: attrs>=17.3.0 in /usr/local/lib/python3.10/dist-packages (from aiohttp<4.0.0,>=3.8.3->langchain) (24.2.0)\n",
            "Requirement already satisfied: frozenlist>=1.1.1 in /usr/local/lib/python3.10/dist-packages (from aiohttp<4.0.0,>=3.8.3->langchain) (1.4.1)\n",
            "Requirement already satisfied: multidict<7.0,>=4.5 in /usr/local/lib/python3.10/dist-packages (from aiohttp<4.0.0,>=3.8.3->langchain) (6.0.5)\n",
            "Requirement already satisfied: yarl<2.0,>=1.0 in /usr/local/lib/python3.10/dist-packages (from aiohttp<4.0.0,>=3.8.3->langchain) (1.9.4)\n",
            "Collecting marshmallow<4.0.0,>=3.18.0 (from dataclasses-json<0.7,>=0.5.7->langchain_community)\n",
            "  Downloading marshmallow-3.22.0-py3-none-any.whl.metadata (7.2 kB)\n",
            "Collecting typing-inspect<1,>=0.4.0 (from dataclasses-json<0.7,>=0.5.7->langchain_community)\n",
            "  Downloading typing_inspect-0.9.0-py3-none-any.whl.metadata (1.5 kB)\n",
            "Requirement already satisfied: google-ai-generativelanguage==0.6.6 in /usr/local/lib/python3.10/dist-packages (from google-generativeai<0.8.0,>=0.7.0->langchain_google_genai) (0.6.6)\n",
            "Requirement already satisfied: google-api-core in /usr/local/lib/python3.10/dist-packages (from google-generativeai<0.8.0,>=0.7.0->langchain_google_genai) (2.19.2)\n",
            "Requirement already satisfied: google-api-python-client in /usr/local/lib/python3.10/dist-packages (from google-generativeai<0.8.0,>=0.7.0->langchain_google_genai) (2.137.0)\n",
            "Requirement already satisfied: google-auth>=2.15.0 in /usr/local/lib/python3.10/dist-packages (from google-generativeai<0.8.0,>=0.7.0->langchain_google_genai) (2.27.0)\n",
            "Requirement already satisfied: protobuf in /usr/local/lib/python3.10/dist-packages (from google-generativeai<0.8.0,>=0.7.0->langchain_google_genai) (3.20.3)\n",
            "Requirement already satisfied: tqdm in /usr/local/lib/python3.10/dist-packages (from google-generativeai<0.8.0,>=0.7.0->langchain_google_genai) (4.66.5)\n",
            "Requirement already satisfied: typing-extensions in /usr/local/lib/python3.10/dist-packages (from google-generativeai<0.8.0,>=0.7.0->langchain_google_genai) (4.12.2)\n",
            "Requirement already satisfied: proto-plus<2.0.0dev,>=1.22.3 in /usr/local/lib/python3.10/dist-packages (from google-ai-generativelanguage==0.6.6->google-generativeai<0.8.0,>=0.7.0->langchain_google_genai) (1.24.0)\n",
            "Requirement already satisfied: anyio<5,>=3.5.0 in /usr/local/lib/python3.10/dist-packages (from groq<1,>=0.4.1->langchain-groq) (3.7.1)\n",
            "Requirement already satisfied: distro<2,>=1.7.0 in /usr/lib/python3/dist-packages (from groq<1,>=0.4.1->langchain-groq) (1.7.0)\n",
            "Requirement already satisfied: httpx<1,>=0.23.0 in /usr/local/lib/python3.10/dist-packages (from groq<1,>=0.4.1->langchain-groq) (0.27.2)\n",
            "Requirement already satisfied: sniffio in /usr/local/lib/python3.10/dist-packages (from groq<1,>=0.4.1->langchain-groq) (1.3.1)\n",
            "Collecting jsonpatch<2.0,>=1.33 (from langchain-core<0.3.0,>=0.2.38->langchain)\n",
            "  Downloading jsonpatch-1.33-py2.py3-none-any.whl.metadata (3.0 kB)\n",
            "Requirement already satisfied: packaging<25,>=23.2 in /usr/local/lib/python3.10/dist-packages (from langchain-core<0.3.0,>=0.2.38->langchain) (24.1)\n",
            "Collecting orjson<4.0.0,>=3.9.14 (from langsmith<0.2.0,>=0.1.17->langchain)\n",
            "  Downloading orjson-3.10.7-cp310-cp310-manylinux_2_17_x86_64.manylinux2014_x86_64.whl.metadata (50 kB)\n",
            "\u001b[2K     \u001b[90m━━━━━━━━━━━━━━━━━━━━━━━━━━━━━━━━━━━━━━━━\u001b[0m \u001b[32m50.4/50.4 kB\u001b[0m \u001b[31m724.3 kB/s\u001b[0m eta \u001b[36m0:00:00\u001b[0m\n",
            "\u001b[?25hRequirement already satisfied: annotated-types>=0.4.0 in /usr/local/lib/python3.10/dist-packages (from pydantic<3,>=1->langchain) (0.7.0)\n",
            "Requirement already satisfied: pydantic-core==2.20.1 in /usr/local/lib/python3.10/dist-packages (from pydantic<3,>=1->langchain) (2.20.1)\n",
            "Requirement already satisfied: charset-normalizer<4,>=2 in /usr/local/lib/python3.10/dist-packages (from requests<3,>=2->langchain) (3.3.2)\n",
            "Requirement already satisfied: idna<4,>=2.5 in /usr/local/lib/python3.10/dist-packages (from requests<3,>=2->langchain) (3.8)\n",
            "Requirement already satisfied: urllib3<3,>=1.21.1 in /usr/local/lib/python3.10/dist-packages (from requests<3,>=2->langchain) (2.0.7)\n",
            "Requirement already satisfied: certifi>=2017.4.17 in /usr/local/lib/python3.10/dist-packages (from requests<3,>=2->langchain) (2024.8.30)\n",
            "Requirement already satisfied: greenlet!=0.4.17 in /usr/local/lib/python3.10/dist-packages (from SQLAlchemy<3,>=1.4->langchain) (3.0.3)\n",
            "Requirement already satisfied: exceptiongroup in /usr/local/lib/python3.10/dist-packages (from anyio<5,>=3.5.0->groq<1,>=0.4.1->langchain-groq) (1.2.2)\n",
            "Requirement already satisfied: googleapis-common-protos<2.0.dev0,>=1.56.2 in /usr/local/lib/python3.10/dist-packages (from google-api-core->google-generativeai<0.8.0,>=0.7.0->langchain_google_genai) (1.65.0)\n",
            "Requirement already satisfied: cachetools<6.0,>=2.0.0 in /usr/local/lib/python3.10/dist-packages (from google-auth>=2.15.0->google-generativeai<0.8.0,>=0.7.0->langchain_google_genai) (5.5.0)\n",
            "Requirement already satisfied: pyasn1-modules>=0.2.1 in /usr/local/lib/python3.10/dist-packages (from google-auth>=2.15.0->google-generativeai<0.8.0,>=0.7.0->langchain_google_genai) (0.4.0)\n",
            "Requirement already satisfied: rsa<5,>=3.1.4 in /usr/local/lib/python3.10/dist-packages (from google-auth>=2.15.0->google-generativeai<0.8.0,>=0.7.0->langchain_google_genai) (4.9)\n",
            "Requirement already satisfied: httpcore==1.* in /usr/local/lib/python3.10/dist-packages (from httpx<1,>=0.23.0->groq<1,>=0.4.1->langchain-groq) (1.0.5)\n",
            "Requirement already satisfied: h11<0.15,>=0.13 in /usr/local/lib/python3.10/dist-packages (from httpcore==1.*->httpx<1,>=0.23.0->groq<1,>=0.4.1->langchain-groq) (0.14.0)\n",
            "Collecting jsonpointer>=1.9 (from jsonpatch<2.0,>=1.33->langchain-core<0.3.0,>=0.2.38->langchain)\n",
            "  Downloading jsonpointer-3.0.0-py2.py3-none-any.whl.metadata (2.3 kB)\n",
            "Collecting mypy-extensions>=0.3.0 (from typing-inspect<1,>=0.4.0->dataclasses-json<0.7,>=0.5.7->langchain_community)\n",
            "  Downloading mypy_extensions-1.0.0-py3-none-any.whl.metadata (1.1 kB)\n",
            "Requirement already satisfied: httplib2<1.dev0,>=0.19.0 in /usr/local/lib/python3.10/dist-packages (from google-api-python-client->google-generativeai<0.8.0,>=0.7.0->langchain_google_genai) (0.22.0)\n",
            "Requirement already satisfied: google-auth-httplib2<1.0.0,>=0.2.0 in /usr/local/lib/python3.10/dist-packages (from google-api-python-client->google-generativeai<0.8.0,>=0.7.0->langchain_google_genai) (0.2.0)\n",
            "Requirement already satisfied: uritemplate<5,>=3.0.1 in /usr/local/lib/python3.10/dist-packages (from google-api-python-client->google-generativeai<0.8.0,>=0.7.0->langchain_google_genai) (4.1.1)\n",
            "Requirement already satisfied: grpcio<2.0dev,>=1.33.2 in /usr/local/lib/python3.10/dist-packages (from google-api-core[grpc]!=2.0.*,!=2.1.*,!=2.10.*,!=2.2.*,!=2.3.*,!=2.4.*,!=2.5.*,!=2.6.*,!=2.7.*,!=2.8.*,!=2.9.*,<3.0.0dev,>=1.34.1->google-ai-generativelanguage==0.6.6->google-generativeai<0.8.0,>=0.7.0->langchain_google_genai) (1.64.1)\n",
            "Requirement already satisfied: grpcio-status<2.0.dev0,>=1.33.2 in /usr/local/lib/python3.10/dist-packages (from google-api-core[grpc]!=2.0.*,!=2.1.*,!=2.10.*,!=2.2.*,!=2.3.*,!=2.4.*,!=2.5.*,!=2.6.*,!=2.7.*,!=2.8.*,!=2.9.*,<3.0.0dev,>=1.34.1->google-ai-generativelanguage==0.6.6->google-generativeai<0.8.0,>=0.7.0->langchain_google_genai) (1.48.2)\n",
            "Requirement already satisfied: pyparsing!=3.0.0,!=3.0.1,!=3.0.2,!=3.0.3,<4,>=2.4.2 in /usr/local/lib/python3.10/dist-packages (from httplib2<1.dev0,>=0.19.0->google-api-python-client->google-generativeai<0.8.0,>=0.7.0->langchain_google_genai) (3.1.4)\n",
            "Requirement already satisfied: pyasn1<0.7.0,>=0.4.6 in /usr/local/lib/python3.10/dist-packages (from pyasn1-modules>=0.2.1->google-auth>=2.15.0->google-generativeai<0.8.0,>=0.7.0->langchain_google_genai) (0.6.0)\n",
            "Downloading langchain-0.2.16-py3-none-any.whl (1.0 MB)\n",
            "\u001b[2K   \u001b[90m━━━━━━━━━━━━━━━━━━━━━━━━━━━━━━━━━━━━━━━━\u001b[0m \u001b[32m1.0/1.0 MB\u001b[0m \u001b[31m10.3 MB/s\u001b[0m eta \u001b[36m0:00:00\u001b[0m\n",
            "\u001b[?25hDownloading langchain_google_genai-1.0.10-py3-none-any.whl (39 kB)\n",
            "Downloading langchain_community-0.2.16-py3-none-any.whl (2.3 MB)\n",
            "\u001b[2K   \u001b[90m━━━━━━━━━━━━━━━━━━━━━━━━━━━━━━━━━━━━━━━━\u001b[0m \u001b[32m2.3/2.3 MB\u001b[0m \u001b[31m22.3 MB/s\u001b[0m eta \u001b[36m0:00:00\u001b[0m\n",
            "\u001b[?25hDownloading langchain_groq-0.1.9-py3-none-any.whl (14 kB)\n",
            "Downloading dataclasses_json-0.6.7-py3-none-any.whl (28 kB)\n",
            "Downloading langchain_core-0.2.39-py3-none-any.whl (396 kB)\n",
            "\u001b[2K   \u001b[90m━━━━━━━━━━━━━━━━━━━━━━━━━━━━━━━━━━━━━━━━\u001b[0m \u001b[32m396.6/396.6 kB\u001b[0m \u001b[31m11.1 MB/s\u001b[0m eta \u001b[36m0:00:00\u001b[0m\n",
            "\u001b[?25hDownloading langchain_text_splitters-0.2.4-py3-none-any.whl (25 kB)\n",
            "Downloading langsmith-0.1.117-py3-none-any.whl (290 kB)\n",
            "\u001b[2K   \u001b[90m━━━━━━━━━━━━━━━━━━━━━━━━━━━━━━━━━━━━━━━━\u001b[0m \u001b[32m290.5/290.5 kB\u001b[0m \u001b[31m9.6 MB/s\u001b[0m eta \u001b[36m0:00:00\u001b[0m\n",
            "\u001b[?25hDownloading tenacity-8.5.0-py3-none-any.whl (28 kB)\n",
            "Downloading jsonpatch-1.33-py2.py3-none-any.whl (12 kB)\n",
            "Downloading marshmallow-3.22.0-py3-none-any.whl (49 kB)\n",
            "\u001b[2K   \u001b[90m━━━━━━━━━━━━━━━━━━━━━━━━━━━━━━━━━━━━━━━━\u001b[0m \u001b[32m49.3/49.3 kB\u001b[0m \u001b[31m1.9 MB/s\u001b[0m eta \u001b[36m0:00:00\u001b[0m\n",
            "\u001b[?25hDownloading orjson-3.10.7-cp310-cp310-manylinux_2_17_x86_64.manylinux2014_x86_64.whl (141 kB)\n",
            "\u001b[2K   \u001b[90m━━━━━━━━━━━━━━━━━━━━━━━━━━━━━━━━━━━━━━━━\u001b[0m \u001b[32m141.9/141.9 kB\u001b[0m \u001b[31m3.2 MB/s\u001b[0m eta \u001b[36m0:00:00\u001b[0m\n",
            "\u001b[?25hDownloading typing_inspect-0.9.0-py3-none-any.whl (8.8 kB)\n",
            "Downloading jsonpointer-3.0.0-py2.py3-none-any.whl (7.6 kB)\n",
            "Downloading mypy_extensions-1.0.0-py3-none-any.whl (4.7 kB)\n",
            "Installing collected packages: tenacity, orjson, mypy-extensions, marshmallow, jsonpointer, typing-inspect, jsonpatch, langsmith, dataclasses-json, langchain-core, langchain-text-splitters, langchain-groq, langchain, langchain_google_genai, langchain_community\n",
            "  Attempting uninstall: tenacity\n",
            "    Found existing installation: tenacity 9.0.0\n",
            "    Uninstalling tenacity-9.0.0:\n",
            "      Successfully uninstalled tenacity-9.0.0\n",
            "Successfully installed dataclasses-json-0.6.7 jsonpatch-1.33 jsonpointer-3.0.0 langchain-0.2.16 langchain-core-0.2.39 langchain-groq-0.1.9 langchain-text-splitters-0.2.4 langchain_community-0.2.16 langchain_google_genai-1.0.10 langsmith-0.1.117 marshmallow-3.22.0 mypy-extensions-1.0.0 orjson-3.10.7 tenacity-8.5.0 typing-inspect-0.9.0\n"
          ]
        }
      ]
    },
    {
      "cell_type": "code",
      "source": [
        "!pip install gradio"
      ],
      "metadata": {
        "colab": {
          "base_uri": "https://localhost:8080/"
        },
        "id": "LilVdXznRF6O",
        "outputId": "dfa329bc-72e1-49c7-849a-cad7ea0edd4d"
      },
      "execution_count": 28,
      "outputs": [
        {
          "output_type": "stream",
          "name": "stdout",
          "text": [
            "Collecting gradio\n",
            "  Downloading gradio-4.44.0-py3-none-any.whl.metadata (15 kB)\n",
            "Collecting aiofiles<24.0,>=22.0 (from gradio)\n",
            "  Downloading aiofiles-23.2.1-py3-none-any.whl.metadata (9.7 kB)\n",
            "Requirement already satisfied: anyio<5.0,>=3.0 in /usr/local/lib/python3.10/dist-packages (from gradio) (3.7.1)\n",
            "Collecting fastapi<1.0 (from gradio)\n",
            "  Downloading fastapi-0.114.1-py3-none-any.whl.metadata (27 kB)\n",
            "Collecting ffmpy (from gradio)\n",
            "  Downloading ffmpy-0.4.0-py3-none-any.whl.metadata (2.9 kB)\n",
            "Collecting gradio-client==1.3.0 (from gradio)\n",
            "  Downloading gradio_client-1.3.0-py3-none-any.whl.metadata (7.1 kB)\n",
            "Requirement already satisfied: httpx>=0.24.1 in /usr/local/lib/python3.10/dist-packages (from gradio) (0.27.2)\n",
            "Requirement already satisfied: huggingface-hub>=0.19.3 in /usr/local/lib/python3.10/dist-packages (from gradio) (0.24.6)\n",
            "Requirement already satisfied: importlib-resources<7.0,>=1.3 in /usr/local/lib/python3.10/dist-packages (from gradio) (6.4.4)\n",
            "Requirement already satisfied: jinja2<4.0 in /usr/local/lib/python3.10/dist-packages (from gradio) (3.1.4)\n",
            "Requirement already satisfied: markupsafe~=2.0 in /usr/local/lib/python3.10/dist-packages (from gradio) (2.1.5)\n",
            "Requirement already satisfied: matplotlib~=3.0 in /usr/local/lib/python3.10/dist-packages (from gradio) (3.7.1)\n",
            "Requirement already satisfied: numpy<3.0,>=1.0 in /usr/local/lib/python3.10/dist-packages (from gradio) (1.26.4)\n",
            "Requirement already satisfied: orjson~=3.0 in /usr/local/lib/python3.10/dist-packages (from gradio) (3.10.7)\n",
            "Requirement already satisfied: packaging in /usr/local/lib/python3.10/dist-packages (from gradio) (24.1)\n",
            "Requirement already satisfied: pandas<3.0,>=1.0 in /usr/local/lib/python3.10/dist-packages (from gradio) (2.1.4)\n",
            "Requirement already satisfied: pillow<11.0,>=8.0 in /usr/local/lib/python3.10/dist-packages (from gradio) (9.4.0)\n",
            "Requirement already satisfied: pydantic>=2.0 in /usr/local/lib/python3.10/dist-packages (from gradio) (2.8.2)\n",
            "Collecting pydub (from gradio)\n",
            "  Downloading pydub-0.25.1-py2.py3-none-any.whl.metadata (1.4 kB)\n",
            "Collecting python-multipart>=0.0.9 (from gradio)\n",
            "  Downloading python_multipart-0.0.9-py3-none-any.whl.metadata (2.5 kB)\n",
            "Requirement already satisfied: pyyaml<7.0,>=5.0 in /usr/local/lib/python3.10/dist-packages (from gradio) (6.0.2)\n",
            "Collecting ruff>=0.2.2 (from gradio)\n",
            "  Downloading ruff-0.6.4-py3-none-manylinux_2_17_x86_64.manylinux2014_x86_64.whl.metadata (25 kB)\n",
            "Collecting semantic-version~=2.0 (from gradio)\n",
            "  Downloading semantic_version-2.10.0-py2.py3-none-any.whl.metadata (9.7 kB)\n",
            "Collecting tomlkit==0.12.0 (from gradio)\n",
            "  Downloading tomlkit-0.12.0-py3-none-any.whl.metadata (2.7 kB)\n",
            "Requirement already satisfied: typer<1.0,>=0.12 in /usr/local/lib/python3.10/dist-packages (from gradio) (0.12.5)\n",
            "Requirement already satisfied: typing-extensions~=4.0 in /usr/local/lib/python3.10/dist-packages (from gradio) (4.12.2)\n",
            "Requirement already satisfied: urllib3~=2.0 in /usr/local/lib/python3.10/dist-packages (from gradio) (2.0.7)\n",
            "Collecting uvicorn>=0.14.0 (from gradio)\n",
            "  Downloading uvicorn-0.30.6-py3-none-any.whl.metadata (6.6 kB)\n",
            "Requirement already satisfied: fsspec in /usr/local/lib/python3.10/dist-packages (from gradio-client==1.3.0->gradio) (2024.6.1)\n",
            "Collecting websockets<13.0,>=10.0 (from gradio-client==1.3.0->gradio)\n",
            "  Downloading websockets-12.0-cp310-cp310-manylinux_2_5_x86_64.manylinux1_x86_64.manylinux_2_17_x86_64.manylinux2014_x86_64.whl.metadata (6.6 kB)\n",
            "Requirement already satisfied: idna>=2.8 in /usr/local/lib/python3.10/dist-packages (from anyio<5.0,>=3.0->gradio) (3.8)\n",
            "Requirement already satisfied: sniffio>=1.1 in /usr/local/lib/python3.10/dist-packages (from anyio<5.0,>=3.0->gradio) (1.3.1)\n",
            "Requirement already satisfied: exceptiongroup in /usr/local/lib/python3.10/dist-packages (from anyio<5.0,>=3.0->gradio) (1.2.2)\n",
            "Collecting starlette<0.39.0,>=0.37.2 (from fastapi<1.0->gradio)\n",
            "  Downloading starlette-0.38.5-py3-none-any.whl.metadata (6.0 kB)\n",
            "Requirement already satisfied: certifi in /usr/local/lib/python3.10/dist-packages (from httpx>=0.24.1->gradio) (2024.8.30)\n",
            "Requirement already satisfied: httpcore==1.* in /usr/local/lib/python3.10/dist-packages (from httpx>=0.24.1->gradio) (1.0.5)\n",
            "Requirement already satisfied: h11<0.15,>=0.13 in /usr/local/lib/python3.10/dist-packages (from httpcore==1.*->httpx>=0.24.1->gradio) (0.14.0)\n",
            "Requirement already satisfied: filelock in /usr/local/lib/python3.10/dist-packages (from huggingface-hub>=0.19.3->gradio) (3.15.4)\n",
            "Requirement already satisfied: requests in /usr/local/lib/python3.10/dist-packages (from huggingface-hub>=0.19.3->gradio) (2.32.3)\n",
            "Requirement already satisfied: tqdm>=4.42.1 in /usr/local/lib/python3.10/dist-packages (from huggingface-hub>=0.19.3->gradio) (4.66.5)\n",
            "Requirement already satisfied: contourpy>=1.0.1 in /usr/local/lib/python3.10/dist-packages (from matplotlib~=3.0->gradio) (1.3.0)\n",
            "Requirement already satisfied: cycler>=0.10 in /usr/local/lib/python3.10/dist-packages (from matplotlib~=3.0->gradio) (0.12.1)\n",
            "Requirement already satisfied: fonttools>=4.22.0 in /usr/local/lib/python3.10/dist-packages (from matplotlib~=3.0->gradio) (4.53.1)\n",
            "Requirement already satisfied: kiwisolver>=1.0.1 in /usr/local/lib/python3.10/dist-packages (from matplotlib~=3.0->gradio) (1.4.5)\n",
            "Requirement already satisfied: pyparsing>=2.3.1 in /usr/local/lib/python3.10/dist-packages (from matplotlib~=3.0->gradio) (3.1.4)\n",
            "Requirement already satisfied: python-dateutil>=2.7 in /usr/local/lib/python3.10/dist-packages (from matplotlib~=3.0->gradio) (2.8.2)\n",
            "Requirement already satisfied: pytz>=2020.1 in /usr/local/lib/python3.10/dist-packages (from pandas<3.0,>=1.0->gradio) (2024.1)\n",
            "Requirement already satisfied: tzdata>=2022.1 in /usr/local/lib/python3.10/dist-packages (from pandas<3.0,>=1.0->gradio) (2024.1)\n",
            "Requirement already satisfied: annotated-types>=0.4.0 in /usr/local/lib/python3.10/dist-packages (from pydantic>=2.0->gradio) (0.7.0)\n",
            "Requirement already satisfied: pydantic-core==2.20.1 in /usr/local/lib/python3.10/dist-packages (from pydantic>=2.0->gradio) (2.20.1)\n",
            "Requirement already satisfied: click>=8.0.0 in /usr/local/lib/python3.10/dist-packages (from typer<1.0,>=0.12->gradio) (8.1.7)\n",
            "Requirement already satisfied: shellingham>=1.3.0 in /usr/local/lib/python3.10/dist-packages (from typer<1.0,>=0.12->gradio) (1.5.4)\n",
            "Requirement already satisfied: rich>=10.11.0 in /usr/local/lib/python3.10/dist-packages (from typer<1.0,>=0.12->gradio) (13.8.0)\n",
            "Requirement already satisfied: six>=1.5 in /usr/local/lib/python3.10/dist-packages (from python-dateutil>=2.7->matplotlib~=3.0->gradio) (1.16.0)\n",
            "Requirement already satisfied: markdown-it-py>=2.2.0 in /usr/local/lib/python3.10/dist-packages (from rich>=10.11.0->typer<1.0,>=0.12->gradio) (3.0.0)\n",
            "Requirement already satisfied: pygments<3.0.0,>=2.13.0 in /usr/local/lib/python3.10/dist-packages (from rich>=10.11.0->typer<1.0,>=0.12->gradio) (2.16.1)\n",
            "Requirement already satisfied: charset-normalizer<4,>=2 in /usr/local/lib/python3.10/dist-packages (from requests->huggingface-hub>=0.19.3->gradio) (3.3.2)\n",
            "Requirement already satisfied: mdurl~=0.1 in /usr/local/lib/python3.10/dist-packages (from markdown-it-py>=2.2.0->rich>=10.11.0->typer<1.0,>=0.12->gradio) (0.1.2)\n",
            "Downloading gradio-4.44.0-py3-none-any.whl (18.1 MB)\n",
            "\u001b[2K   \u001b[90m━━━━━━━━━━━━━━━━━━━━━━━━━━━━━━━━━━━━━━━━\u001b[0m \u001b[32m18.1/18.1 MB\u001b[0m \u001b[31m36.7 MB/s\u001b[0m eta \u001b[36m0:00:00\u001b[0m\n",
            "\u001b[?25hDownloading gradio_client-1.3.0-py3-none-any.whl (318 kB)\n",
            "\u001b[2K   \u001b[90m━━━━━━━━━━━━━━━━━━━━━━━━━━━━━━━━━━━━━━━━\u001b[0m \u001b[32m318.7/318.7 kB\u001b[0m \u001b[31m15.1 MB/s\u001b[0m eta \u001b[36m0:00:00\u001b[0m\n",
            "\u001b[?25hDownloading tomlkit-0.12.0-py3-none-any.whl (37 kB)\n",
            "Downloading aiofiles-23.2.1-py3-none-any.whl (15 kB)\n",
            "Downloading fastapi-0.114.1-py3-none-any.whl (94 kB)\n",
            "\u001b[2K   \u001b[90m━━━━━━━━━━━━━━━━━━━━━━━━━━━━━━━━━━━━━━━━\u001b[0m \u001b[32m94.0/94.0 kB\u001b[0m \u001b[31m5.1 MB/s\u001b[0m eta \u001b[36m0:00:00\u001b[0m\n",
            "\u001b[?25hDownloading python_multipart-0.0.9-py3-none-any.whl (22 kB)\n",
            "Downloading ruff-0.6.4-py3-none-manylinux_2_17_x86_64.manylinux2014_x86_64.whl (10.3 MB)\n",
            "\u001b[2K   \u001b[90m━━━━━━━━━━━━━━━━━━━━━━━━━━━━━━━━━━━━━━━━\u001b[0m \u001b[32m10.3/10.3 MB\u001b[0m \u001b[31m60.1 MB/s\u001b[0m eta \u001b[36m0:00:00\u001b[0m\n",
            "\u001b[?25hDownloading semantic_version-2.10.0-py2.py3-none-any.whl (15 kB)\n",
            "Downloading uvicorn-0.30.6-py3-none-any.whl (62 kB)\n",
            "\u001b[2K   \u001b[90m━━━━━━━━━━━━━━━━━━━━━━━━━━━━━━━━━━━━━━━━\u001b[0m \u001b[32m62.8/62.8 kB\u001b[0m \u001b[31m3.3 MB/s\u001b[0m eta \u001b[36m0:00:00\u001b[0m\n",
            "\u001b[?25hDownloading ffmpy-0.4.0-py3-none-any.whl (5.8 kB)\n",
            "Downloading pydub-0.25.1-py2.py3-none-any.whl (32 kB)\n",
            "Downloading starlette-0.38.5-py3-none-any.whl (71 kB)\n",
            "\u001b[2K   \u001b[90m━━━━━━━━━━━━━━━━━━━━━━━━━━━━━━━━━━━━━━━━\u001b[0m \u001b[32m71.4/71.4 kB\u001b[0m \u001b[31m3.7 MB/s\u001b[0m eta \u001b[36m0:00:00\u001b[0m\n",
            "\u001b[?25hDownloading websockets-12.0-cp310-cp310-manylinux_2_5_x86_64.manylinux1_x86_64.manylinux_2_17_x86_64.manylinux2014_x86_64.whl (130 kB)\n",
            "\u001b[2K   \u001b[90m━━━━━━━━━━━━━━━━━━━━━━━━━━━━━━━━━━━━━━━━\u001b[0m \u001b[32m130.2/130.2 kB\u001b[0m \u001b[31m7.0 MB/s\u001b[0m eta \u001b[36m0:00:00\u001b[0m\n",
            "\u001b[?25hInstalling collected packages: pydub, websockets, uvicorn, tomlkit, semantic-version, ruff, python-multipart, ffmpy, aiofiles, starlette, gradio-client, fastapi, gradio\n",
            "  Attempting uninstall: tomlkit\n",
            "    Found existing installation: tomlkit 0.13.2\n",
            "    Uninstalling tomlkit-0.13.2:\n",
            "      Successfully uninstalled tomlkit-0.13.2\n",
            "Successfully installed aiofiles-23.2.1 fastapi-0.114.1 ffmpy-0.4.0 gradio-4.44.0 gradio-client-1.3.0 pydub-0.25.1 python-multipart-0.0.9 ruff-0.6.4 semantic-version-2.10.0 starlette-0.38.5 tomlkit-0.12.0 uvicorn-0.30.6 websockets-12.0\n"
          ]
        }
      ]
    },
    {
      "cell_type": "code",
      "source": [
        "from langchain_groq import ChatGroq\n",
        "from langchain.text_splitter import RecursiveCharacterTextSplitter\n",
        "from langchain.chains.combine_documents import create_stuff_documents_chain\n",
        "from langchain_core.prompts import ChatPromptTemplate\n",
        "from langchain.chains import create_retrieval_chain, ConversationalRetrievalChain\n",
        "from langchain.memory import ConversationBufferMemory\n",
        "from langchain_community.vectorstores import FAISS\n",
        "from langchain_community.document_loaders import PyPDFLoader\n",
        "from langchain_google_genai import GoogleGenerativeAIEmbeddings\n",
        "from google.colab import userdata"
      ],
      "metadata": {
        "id": "FqfUUtywZidN"
      },
      "execution_count": 1,
      "outputs": []
    },
    {
      "cell_type": "code",
      "source": [
        "GROQ_API_KEY = userdata.get('GROQ_API_KEY')\n",
        "GOOGLE_API_KEY = userdata.get('GOOGLE_API_KEY')"
      ],
      "metadata": {
        "id": "o3sbPILFauVj"
      },
      "execution_count": 2,
      "outputs": []
    },
    {
      "cell_type": "code",
      "source": [
        "llm=ChatGroq(groq_api_key=GROQ_API_KEY, temperature=0.1,\n",
        "             model_name=\"Llama3-8b-8192\")\n",
        "\n",
        "prompt=ChatPromptTemplate.from_template(\n",
        "\"\"\"\n",
        "You are an ai assistant. Use the following conversation history and context to answer the question.\n",
        "If you don't know the answer, just say that you don't know. Don't try to make up an answer.\n",
        "\n",
        "Conversation history:\n",
        "{chat_history}\n",
        "\n",
        "Context:\n",
        "{context}\n",
        "\n",
        "Questions: {input}\n",
        "\n",
        "\"\"\"\n",
        ")"
      ],
      "metadata": {
        "id": "HqsIph1bHBoK"
      },
      "execution_count": 14,
      "outputs": []
    },
    {
      "cell_type": "code",
      "source": [
        "embeddings = GoogleGenerativeAIEmbeddings(model = \"models/embedding-001\", google_api_key=GOOGLE_API_KEY)\n",
        "\n",
        "loader = PyPDFLoader(\"/content/Forest-Carbon-SMPP-Brief-20201030.pdf\")\n",
        "\n",
        "docs = loader.load()"
      ],
      "metadata": {
        "id": "mDidTiZmbiUG"
      },
      "execution_count": 4,
      "outputs": []
    },
    {
      "cell_type": "code",
      "source": [
        "text_splitter = RecursiveCharacterTextSplitter(chunk_size=1000,chunk_overlap=100)\n",
        "\n",
        "final_documents = text_splitter.split_documents(docs)\n",
        "\n",
        "vectors=FAISS.from_documents(final_documents, embeddings)"
      ],
      "metadata": {
        "id": "MJgzS7cOdXXU"
      },
      "execution_count": 5,
      "outputs": []
    },
    {
      "cell_type": "code",
      "source": [
        "document_chain = create_stuff_documents_chain(llm,prompt)\n",
        "\n",
        "retriever = vectors.as_retriever()\n",
        "\n",
        "memory = ConversationBufferMemory(memory_key=\"chat_history\", return_messages=True)\n",
        "\n",
        "retrieval_chain = ConversationalRetrievalChain.from_llm(\n",
        "    llm=llm,\n",
        "    retriever=retriever,\n",
        "    memory=memory,\n",
        ")"
      ],
      "metadata": {
        "id": "Y5X02dpwe8by"
      },
      "execution_count": 15,
      "outputs": []
    },
    {
      "cell_type": "code",
      "source": [
        "response = retrieval_chain.invoke('explain about the project briefly in one paragraph')\n",
        "print(response['answer'])"
      ],
      "metadata": {
        "colab": {
          "base_uri": "https://localhost:8080/"
        },
        "id": "thk_uNLRGojK",
        "outputId": "ec240634-8240-44eb-c474-08e8a3d5d8d5"
      },
      "execution_count": 16,
      "outputs": [
        {
          "output_type": "stream",
          "name": "stdout",
          "text": [
            "The project aims to protect and regenerate a peatland rainforest in Sumatra, which was once one of the most biodiverse regions in the country. The project is partnering with the Zoological Society of London to conduct a comprehensive biodiversity assessment and catalog of the flora and fauna, and is also working to reduce wildlife poaching by providing new livelihood opportunities. The project is also focused on restoring the peatlands to their natural state, which has high rehabilitation and emissions reduction potential, and is eligible to produce and certify emissions reductions under an \"avoided planned deforestation\" scenario.\n"
          ]
        }
      ]
    },
    {
      "cell_type": "code",
      "source": [
        "response = retrieval_chain.invoke({'question':'where is the location of the project?'})\n",
        "print(response['answer'])"
      ],
      "metadata": {
        "colab": {
          "base_uri": "https://localhost:8080/"
        },
        "id": "zpn_RWxolD4y",
        "outputId": "3511759e-2e18-4080-d2ee-2c6d3c77233b"
      },
      "execution_count": 17,
      "outputs": [
        {
          "output_type": "stream",
          "name": "stdout",
          "text": [
            "The location of the Sumatra Merang Peatland project is in the Musi Banyuasin District in South Sumatra, Indonesia.\n"
          ]
        }
      ]
    },
    {
      "cell_type": "code",
      "source": [
        "response = retrieval_chain.invoke({'question':'How many hectares is the project restoring?'})\n",
        "print(response['answer'])"
      ],
      "metadata": {
        "colab": {
          "base_uri": "https://localhost:8080/"
        },
        "id": "6Og2YMpELYFj",
        "outputId": "2d71c514-0691-411f-e6c3-9964264f9920"
      },
      "execution_count": 18,
      "outputs": [
        {
          "output_type": "stream",
          "name": "stdout",
          "text": [
            "According to the provided context, the Sumatra Merang Peatland project is restoring and protecting 22,934 hectares of peatland forest.\n"
          ]
        }
      ]
    },
    {
      "cell_type": "code",
      "source": [
        "response = retrieval_chain.invoke({'question':'can you explain how about forest monitoring?'})\n",
        "print(response['answer'])"
      ],
      "metadata": {
        "colab": {
          "base_uri": "https://localhost:8080/"
        },
        "id": "cttozq_SlLBs",
        "outputId": "197cde64-6ad8-45e3-c14f-d0f07be8c505"
      },
      "execution_count": 19,
      "outputs": [
        {
          "output_type": "stream",
          "name": "stdout",
          "text": [
            "According to the context, the project plans to monitor the forest through a combination of methods, including:\n",
            "\n",
            "1. Ground teams patrolling the project area to monitor the health of the landscape.\n",
            "2. Using technologies such as drones and satellite-based Early Warning Systems to prevent fires and illegal land clearance.\n",
            "\n",
            "These methods will help the project team to effectively monitor the forest and prevent any potential threats to the protected area.\n"
          ]
        }
      ]
    },
    {
      "cell_type": "code",
      "source": [
        "response = retrieval_chain.invoke({'question':'can you explain what sustainable banking is?'})\n",
        "print(response['answer'])"
      ],
      "metadata": {
        "colab": {
          "base_uri": "https://localhost:8080/"
        },
        "id": "HeZTC7lunQ-K",
        "outputId": "bffc3272-24e6-429e-ad60-863e6bbd483c"
      },
      "execution_count": 20,
      "outputs": [
        {
          "output_type": "stream",
          "name": "stdout",
          "text": [
            "I don't know the answer to this question based on the provided context. The text appears to be about a specific project, the Sumatra Merang Peatland project, and its goals and activities related to climate finance, community development, and peatland rehabilitation. It does not provide information about sustainable banking. If you're looking for information on sustainable banking, I'd be happy to help you find a reliable source or provide a general definition.\n"
          ]
        }
      ]
    },
    {
      "cell_type": "code",
      "source": [
        "response = retrieval_chain.invoke({'question':'Why is the Sumatra Merang Peatland project so important to the surrounding local communities?'})\n",
        "print(response['answer'])"
      ],
      "metadata": {
        "colab": {
          "base_uri": "https://localhost:8080/"
        },
        "id": "XibdRnFyMDiG",
        "outputId": "70027db1-5674-45f9-91a7-133c7662c794"
      },
      "execution_count": 22,
      "outputs": [
        {
          "output_type": "stream",
          "name": "stdout",
          "text": [
            "According to the provided context, local communities play a significant role in the Sumatra Merang Peatland project. The project strengthens fire management and forest patrol through regular interaction with local community members, law enforcement, and Ministry of Forestry officials. The project's efforts to reduce logging and rehabilitate peatlands have been received positively by local communities, as this improves the health of the landscape.\n",
            "\n",
            "The project also benefits local communities in several ways. For instance, community members, law enforcement, and project staff have worked together to destroy large machinery being used for illegal logging operations in the project area. Additionally, the project aims to create jobs and improve livelihoods, with 25% of jobs created being held by women. The project also supports local enterprises, such as sustainable fish production, and engages local people through community-led development and direct employment of 145 residents from the local area for dam construction, forest patrols, and other activities.\n"
          ]
        }
      ]
    },
    {
      "cell_type": "code",
      "source": [
        "response = retrieval_chain.invoke({'question':'What are the main challenges faced by local communities, and how does the project aim to address them?'})\n",
        "print(response['answer'])"
      ],
      "metadata": {
        "colab": {
          "base_uri": "https://localhost:8080/"
        },
        "id": "91KM8gZONgWU",
        "outputId": "7e3362d4-7677-4b60-b9e8-3d603a8686da"
      },
      "execution_count": 24,
      "outputs": [
        {
          "output_type": "stream",
          "name": "stdout",
          "text": [
            "According to the provided context, the main challenges faced by local communities in the Sumatra Merang Peatland project area are:\n",
            "\n",
            "1. Public health: The communities are situated directly on the river and have no access to clean water or sanitation infrastructure, making them highly susceptible to waterborne diseases.\n",
            "2. Water/sanitation: The lack of access to clean water and sanitation infrastructure is a core challenge for local villages.\n",
            "\n",
            "The project aims to address these challenges through the following initiatives:\n",
            "\n",
            "1. Public health campaigns: The project will support public health campaigns to address the health concerns of local communities.\n",
            "2. Water/sanitation infrastructure: The project will invest funds to improve public health by developing sustainable water and sanitation infrastructure in the local villages.\n",
            "3. Education programs: The project will support education programs to raise awareness about the importance of public health and sanitation.\n",
            "\n",
            "Additionally, the project aims to address the challenges faced by local communities through a profit-sharing mechanism, which invests in community development and low-carbon livelihoods programs. This includes contributing to development initiatives such as:\n",
            "\n",
            "1. Community development: The project will work with surrounding communities to develop sustainable livelihood programs that benefit local communities.\n",
            "2. Low-carbon livelihoods: The project will support low-carbon livelihoods programs that promote sustainable development and reduce the reliance on fossil fuels.\n",
            "\n",
            "Overall, the project aims to address the challenges faced by local communities by providing access to clean water and sanitation, promoting public health, and supporting sustainable livelihoods.\n"
          ]
        }
      ]
    },
    {
      "cell_type": "code",
      "source": [
        "response = retrieval_chain.invoke({'question':'What makes the project eligible to produce and certify emissions reductions under an \"avoided planned deforestation\" scenario?'})\n",
        "print(response['answer'])"
      ],
      "metadata": {
        "colab": {
          "base_uri": "https://localhost:8080/"
        },
        "id": "dTrfPPN8OI10",
        "outputId": "183a14ec-a780-46a6-c5b0-a50777e89d9e"
      },
      "execution_count": 25,
      "outputs": [
        {
          "output_type": "stream",
          "name": "stdout",
          "text": [
            "According to the provided context, the Sumatra Merang Peatland project is eligible to produce and certify emissions reductions under an \"avoided planned deforestation\" scenario because the surrounding land-use context suggests that the project area would be converted for paper pulp production if not for the project.\n"
          ]
        }
      ]
    },
    {
      "cell_type": "code",
      "source": [
        "response = retrieval_chain.invoke({'question':'What environmental consequences could result from converting the project area to paper pulp production?'})\n",
        "print(response['answer'])"
      ],
      "metadata": {
        "colab": {
          "base_uri": "https://localhost:8080/"
        },
        "id": "qLzIvygpQCM3",
        "outputId": "cd15d181-b493-4024-a2a1-c590d5214114"
      },
      "execution_count": 26,
      "outputs": [
        {
          "output_type": "stream",
          "name": "stdout",
          "text": [
            "According to the provided context, if the project area is converted for paper pulp production, it could result in the following environmental consequences:\n",
            "\n",
            "* Rapid peat decomposition, which would dramatically increase greenhouse gas emissions.\n",
            "* The risk of fire would increase due to the conversion of the area.\n",
            "* The original vegetation would be completely cleared, and the area would be planted with trees commonly used for pulp and paper production on tropical peatlands.\n",
            "* An extensive drainage system would be built, which would further accelerate peat decomposition and increase greenhouse gas emissions.\n",
            "\n",
            "These consequences would likely have significant negative impacts on the environment, including increased greenhouse gas emissions, increased risk of fire, and loss of biodiversity.\n"
          ]
        }
      ]
    },
    {
      "cell_type": "code",
      "source": [
        "import gradio as gr\n",
        "\n",
        "def chatbot(query):\n",
        "    response = retrieval_chain.invoke({'question':query})\n",
        "    answer = response['answer']\n",
        "    return answer\n",
        "\n",
        "iface = gr.Interface(fn=chatbot, inputs=\"text\", outputs=\"text\", title=\"Ask Your PDF Document\")\n",
        "\n",
        "iface.launch(share=True, debug=True)"
      ],
      "metadata": {
        "colab": {
          "base_uri": "https://localhost:8080/",
          "height": 633
        },
        "id": "bYLCz4FPQVqU",
        "outputId": "887538c2-8ae3-4aae-9f2d-42b138557c2e"
      },
      "execution_count": 32,
      "outputs": [
        {
          "output_type": "stream",
          "name": "stdout",
          "text": [
            "Colab notebook detected. This cell will run indefinitely so that you can see errors and logs. To turn off, set debug=False in launch().\n",
            "Running on public URL: https://844fded7fc7aab0cfd.gradio.live\n",
            "\n",
            "This share link expires in 72 hours. For free permanent hosting and GPU upgrades, run `gradio deploy` from Terminal to deploy to Spaces (https://huggingface.co/spaces)\n"
          ]
        },
        {
          "output_type": "display_data",
          "data": {
            "text/plain": [
              "<IPython.core.display.HTML object>"
            ],
            "text/html": [
              "<div><iframe src=\"https://844fded7fc7aab0cfd.gradio.live\" width=\"100%\" height=\"500\" allow=\"autoplay; camera; microphone; clipboard-read; clipboard-write;\" frameborder=\"0\" allowfullscreen></iframe></div>"
            ]
          },
          "metadata": {}
        },
        {
          "output_type": "stream",
          "name": "stdout",
          "text": [
            "Keyboard interruption in main thread... closing server.\n",
            "Killing tunnel 127.0.0.1:7860 <> https://844fded7fc7aab0cfd.gradio.live\n"
          ]
        },
        {
          "output_type": "execute_result",
          "data": {
            "text/plain": []
          },
          "metadata": {},
          "execution_count": 32
        }
      ]
    },
    {
      "cell_type": "code",
      "source": [],
      "metadata": {
        "id": "yoWOv3K8RA6L"
      },
      "execution_count": null,
      "outputs": []
    },
    {
      "cell_type": "code",
      "source": [
        "print(\"Chat History: \", memory.load_memory_variables({}))"
      ],
      "metadata": {
        "colab": {
          "base_uri": "https://localhost:8080/"
        },
        "id": "jJ2AQtzao6-g",
        "outputId": "8ed0e210-ab66-425f-f571-d8bbbd66e0ad"
      },
      "execution_count": 31,
      "outputs": [
        {
          "output_type": "stream",
          "name": "stdout",
          "text": [
            "Chat History:  {'chat_history': [HumanMessage(content='explain about the project briefly in one paragraph'), AIMessage(content='The project aims to protect and regenerate a peatland rainforest in Sumatra, which was once one of the most biodiverse regions in the country. The project is partnering with the Zoological Society of London to conduct a comprehensive biodiversity assessment and catalog of the flora and fauna, and is also working to reduce wildlife poaching by providing new livelihood opportunities. The project is also focused on restoring the peatlands to their natural state, which has high rehabilitation and emissions reduction potential, and is eligible to produce and certify emissions reductions under an \"avoided planned deforestation\" scenario.'), HumanMessage(content='where is the location of the project?'), AIMessage(content='The location of the Sumatra Merang Peatland project is in the Musi Banyuasin District in South Sumatra, Indonesia.'), HumanMessage(content='How many hectares is the project restoring?'), AIMessage(content='According to the provided context, the Sumatra Merang Peatland project is restoring and protecting 22,934 hectares of peatland forest.'), HumanMessage(content='can you explain how about forest monitoring?'), AIMessage(content='According to the context, the project plans to monitor the forest through a combination of methods, including:\\n\\n1. Ground teams patrolling the project area to monitor the health of the landscape.\\n2. Using technologies such as drones and satellite-based Early Warning Systems to prevent fires and illegal land clearance.\\n\\nThese methods will help the project team to effectively monitor the forest and prevent any potential threats to the protected area.'), HumanMessage(content='can you explain what sustainable banking is?'), AIMessage(content=\"I don't know the answer to this question based on the provided context. The text appears to be about a specific project, the Sumatra Merang Peatland project, and its goals and activities related to climate finance, community development, and peatland rehabilitation. It does not provide information about sustainable banking. If you're looking for information on sustainable banking, I'd be happy to help you find a reliable source or provide a general definition.\"), HumanMessage(content='Why is the Sumatra Merang Peatland project so important to the surrounding local communities?'), AIMessage(content=\"According to the provided context, local communities play a significant role in the Sumatra Merang Peatland project. The project strengthens fire management and forest patrol through regular interaction with local community members, law enforcement, and Ministry of Forestry officials. The project's efforts to reduce logging and rehabilitate peatlands have been received positively by local communities, as this improves the health of the landscape.\\n\\nThe project also benefits local communities in several ways. For instance, community members, law enforcement, and project staff have worked together to destroy large machinery being used for illegal logging operations in the project area. Additionally, the project aims to create jobs and improve livelihoods, with 25% of jobs created being held by women. The project also supports local enterprises, such as sustainable fish production, and engages local people through community-led development and direct employment of 145 residents from the local area for dam construction, forest patrols, and other activities.\"), HumanMessage(content='How does the profit-sharing mechanism in this project support community development and low-carbon livelihoods?'), AIMessage(content='According to the context, the profit-sharing mechanism in the Sumatra Merang Peatland project invests in community development and low-carbon livelihoods programs. This is done through a participatory assessment of needs in the local villages, where the project supports a range of development initiatives alongside local communities. These initiatives include contributing to public health campaigns, water/sanitation infrastructure, and education programs.'), HumanMessage(content='What are the main challenges faced by local communities, and how does the project aim to address them?'), AIMessage(content='According to the provided context, the main challenges faced by local communities in the Sumatra Merang Peatland project area are:\\n\\n1. Public health: The communities are situated directly on the river and have no access to clean water or sanitation infrastructure, making them highly susceptible to waterborne diseases.\\n2. Water/sanitation: The lack of access to clean water and sanitation infrastructure is a core challenge for local villages.\\n\\nThe project aims to address these challenges through the following initiatives:\\n\\n1. Public health campaigns: The project will support public health campaigns to address the health concerns of local communities.\\n2. Water/sanitation infrastructure: The project will invest funds to improve public health by developing sustainable water and sanitation infrastructure in the local villages.\\n3. Education programs: The project will support education programs to raise awareness about the importance of public health and sanitation.\\n\\nAdditionally, the project aims to address the challenges faced by local communities through a profit-sharing mechanism, which invests in community development and low-carbon livelihoods programs. This includes contributing to development initiatives such as:\\n\\n1. Community development: The project will work with surrounding communities to develop sustainable livelihood programs that benefit local communities.\\n2. Low-carbon livelihoods: The project will support low-carbon livelihoods programs that promote sustainable development and reduce the reliance on fossil fuels.\\n\\nOverall, the project aims to address the challenges faced by local communities by providing access to clean water and sanitation, promoting public health, and supporting sustainable livelihoods.'), HumanMessage(content='What makes the project eligible to produce and certify emissions reductions under an \"avoided planned deforestation\" scenario?'), AIMessage(content='According to the provided context, the Sumatra Merang Peatland project is eligible to produce and certify emissions reductions under an \"avoided planned deforestation\" scenario because the surrounding land-use context suggests that the project area would be converted for paper pulp production if not for the project.'), HumanMessage(content='What environmental consequences could result from converting the project area to paper pulp production?'), AIMessage(content='According to the provided context, if the project area is converted for paper pulp production, it could result in the following environmental consequences:\\n\\n* Rapid peat decomposition, which would dramatically increase greenhouse gas emissions.\\n* The risk of fire would increase due to the conversion of the area.\\n* The original vegetation would be completely cleared, and the area would be planted with trees commonly used for pulp and paper production on tropical peatlands.\\n* An extensive drainage system would be built, which would further accelerate peat decomposition and increase greenhouse gas emissions.\\n\\nThese consequences would likely have significant negative impacts on the environment, including increased greenhouse gas emissions, increased risk of fire, and loss of biodiversity.'), HumanMessage(content='What environmental consequences could result from converting the project area to paper pulp production?'), AIMessage(content='According to the provided context, if the project area is converted for paper pulp production, it could lead to the following environmental consequences:\\n\\n1. Rapid peat decomposition: The area would need to be completely cleared of its original vegetation, planted with trees commonly used for pulp and paper production, and an extensive drainage system would be built. This would cause rapid peat decomposition, dramatically increasing greenhouse gas emissions.\\n2. Increased risk of fire: The conversion would also increase the risk of fire, which could have devastating consequences for the peatland ecosystem and the surrounding environment.\\n\\nThese consequences highlight the importance of preserving the project area in its natural state and restoring it to its natural hydrological state, which has high rehabilitation and emissions reduction potential.'), HumanMessage(content='How does the profit-sharing mechanism in this project support community development and low-carbon livelihoods?'), AIMessage(content='According to the context, the profit-sharing mechanism in the Sumatra Merang Peatland project supports community development and low-carbon livelihoods by investing in community development and low-carbon livelihoods programs. This is done through a participatory assessment of needs in the local villages, where the project supports a range of development initiatives alongside local communities. These initiatives include contributing to public health campaigns, water/sanitation infrastructure, and education programs.'), HumanMessage(content='can you explain how about forest monitoring?'), AIMessage(content=\"According to the provided context, the Sumatra Merang Peatland project plans to monitor the forest through a scale-up of monitoring, rehabilitation, and protection programs. Additionally, it will build a network of canal dams as part of its peat rewetting program to protect the waterways.\\n\\nTo prevent fires and illegal land clearance, the project strengthens fire management and forest patrol through regular interaction with law enforcement, Ministry of Forestry officials, and local community members. This collaborative effort has already led to joint action by community members, law enforcement, and project staff to destroy large machinery being used for illegal logging operations in the project area.\\n\\nThese efforts demonstrate the project's commitment to reducing logging and rehabilitating peatlands, which has been positively received by local communities. The project's focus on peatland restoration, logging prevention, and biodiversity preservation directly contributes to climate mitigation, conservation goals, and biodiversity objectives.\"), HumanMessage(content='can you explain about forest monitoring?'), AIMessage(content=\"According to the provided context, the Sumatra Merang Peatland project plans to monitor the forest through a scale-up of monitoring, rehabilitation, and protection programs. Additionally, the project aims to build a network of canal dams as part of its peat rewetting program to protect the waterways.\\n\\nTo prevent fires and illegal land clearance, the project strengthens fire management and forest patrol through regular interaction with law enforcement, Ministry of Forestry officials, and local community members. This collaborative effort has already led to joint action by community members, law enforcement, and project staff to destroy large machinery being used for illegal logging operations in the project area.\\n\\nThese measures demonstrate the project's commitment to protecting the forest and preventing the conversion of the peatland to commodities production, which would lead to rapid peat decomposition, increased greenhouse gas emissions, and the risk of fire.\"), HumanMessage(content='how many fishermen are  engaged with the project'), AIMessage(content='According to the provided context, 12 fishermen are supported through the river networks as part of the Sumatra Merang Peatland project.'), HumanMessage(content='how many carbon credit stores?'), AIMessage(content='According to the provided context, the Sumatra Merang Peatland Project has a target of 3.4 million carbon credits (tonnes CO2) for 2021.'), HumanMessage(content='tell me about the 2019 project milestones'), AIMessage(content='According to the provided context, the project milestones achieved in 2019 were:\\n\\n* Scale-up monitoring, rehabilitation, and protection programs\\n* Building a network of canal dams to protect the waterways as part of the peat rewetting program'), HumanMessage(content=\"Isn't there 4 milestones?\"), AIMessage(content='According to the provided context, the project milestones achieved in 2019 were:\\n\\n* Scale-up monitoring, rehabilitation, and protection programmes\\n* Build a network of canal dams to protect the waterways as part of the peat rewetting programme'), HumanMessage(content='no, the milestones consist of 4 points.'), AIMessage(content='According to the provided context, the four project milestones achieved in 2019 were:\\n\\n1. Scale-up monitoring, rehabilitation, and protection programmes\\n2. Build a network of canal dams to protect the waterways as part of the peat rewetting programme\\n3. Receive verification for combined Verified Carbon Standard (VCS) and Climate, Community and Biodiversity (CCB) standard\\n4. Build a network of canal dams to protect the waterways as part of the peat rewetting programme'), HumanMessage(content='good'), AIMessage(content='According to the provided context, the four project milestones achieved in 2019 were:\\n\\n1. Scale-up monitoring, rehabilitation, and protection programmes.\\n2. Building a network of canal dams to protect the waterways as part of the peat rewetting programme.\\n3. Building a network of canal dams to protect the waterways as part of the peat rewetting programme (this is listed twice, possibly an error).\\n4. Receiving verification for combined Verified Carbon Standard (VCS) and Climate, Community and Biodiversity (CCB) standard.'), HumanMessage(content='thank you'), AIMessage(content='According to the provided context, the four project milestones achieved in 2019 were:\\n\\n1. Scale-up monitoring, rehabilitation, and protection programmes.\\n2. Building a network of canal dams to protect the waterways as part of the peat rewetting programme.\\n3. Building a network of canal dams to protect the waterways as part of the peat rewetting programme (this is listed twice, likely an error).\\n4. Receiving verification for combined Verified Carbon Standard (VCS) and Climate, Community and Biodiversity (CCB) standard.'), HumanMessage(content='what is sustainable banking'), AIMessage(content=\"I don't know the answer to that question. The provided context is about the Sumatra Merang Peatland project, which focuses on climate finance, ecosystem resilience, and livelihoods, but it doesn't mention sustainable banking. If you're looking for information on sustainable banking, I'd be happy to help you find a reliable source or provide a general definition.\"), HumanMessage(content='okay give me that reliable source'), AIMessage(content='Sustainable banking, also known as green banking or environmental banking, refers to the practice of banking and financial institutions incorporating environmental and social considerations into their lending and investment decisions. This approach aims to support projects and activities that promote sustainable development, reduce environmental impact, and benefit local communities.\\n\\nAs for reliable sources of information on sustainable banking, here are a few options:\\n\\n1. The United Nations Environment Programme (UNEP) Finance Initiative: This organization provides guidance, research, and tools for financial institutions to integrate environmental and social considerations into their operations.\\n2. The Global Alliance for Banking on Values (GABV): GABV is a network of banks and financial institutions that prioritize social and environmental impact alongside financial returns. Their website offers resources, research, and case studies on sustainable banking.\\n3. The Sustainable Banking Network (SBN): SBN is a global network of banks and financial institutions that promotes sustainable banking practices. Their website features publications, research, and best practices on sustainable banking.\\n4. The International Finance Corporation (IFC) - Environment and Social Framework: The IFC, a member of the World Bank Group, provides guidance and resources on environmental and social sustainability in the financial sector.\\n5. The Green Banking Network (GBN): GBN is a global network of banks and financial institutions that promotes green banking practices. Their website offers resources, research, and case studies on sustainable banking.\\n\\nThese sources provide a wealth of information on sustainable banking, including research reports, case studies, and best practices. You can also search for academic papers, articles, and books on the topic to deepen your understanding of sustainable banking.'), HumanMessage(content='thanks'), AIMessage(content='Sustainable banking, also known as green banking or environmental banking, refers to the practice of financial institutions incorporating environmental and social considerations into their lending and investment decisions. This approach aims to support projects and activities that promote sustainable development, reduce environmental impact, and benefit local communities.\\n\\nTo find reliable sources of information on sustainable banking, you can explore the following:\\n\\n1. International organizations:\\n\\t* United Nations Environment Programme (UNEP) - Sustainable Finance\\n\\t* World Bank - Sustainable Development\\n\\t* International Finance Corporation (IFC) - Sustainable Banking\\n2. Industry associations:\\n\\t* Global Alliance for Banking on Values (GABV)\\n\\t* Sustainable Banking Network (SBN)\\n\\t* European Sustainable Banking Group (ESBG)\\n3. Research institutions and think tanks:\\n\\t* Cambridge Institute for Sustainability Leadership (CISL)\\n\\t* Centre for International Environmental Law (CIEL)\\n\\t* Natural Capital Finance Alliance (NCFA)\\n4. Online resources:\\n\\t* Sustainable Banking Network (SBN) - Knowledge Hub\\n\\t* Green Banking - A Guide to Sustainable Banking (PDF)\\n\\t* The Sustainable Banking Handbook (PDF)\\n5. Academic journals and publications:\\n\\t* Journal of Sustainable Finance & Banking\\n\\t* Sustainability Accounting, Management and Policy Journal\\n\\t* Environmental Finance\\n\\nRemember to verify the credibility and reliability of the sources you consult, and consider peer-reviewed articles and publications from reputable organizations.'), HumanMessage(content='back to the merang project,'), AIMessage(content='According to the provided context, the main challenges faced by local communities in the Sumatra Merang Peatland project area are:\\n\\n1. Public health: The communities are situated directly on the river and have no access to clean water or sanitation infrastructure, making them highly susceptible to waterborne diseases.\\n2. Water/sanitation: The lack of access to clean water and sanitation infrastructure is a core challenge for local villages.\\n\\nThe project aims to address these challenges through the following initiatives:\\n\\n1. Public health campaigns: The project supports public health campaigns to address the health concerns of local communities.\\n2. Water/sanitation infrastructure: The project invests in developing water/sanitation infrastructure to improve public health in the local villages.\\n3. Education programs: The project supports education programs to raise awareness about the importance of public health and sanitation.\\n\\nAdditionally, the project aims to address the challenges faced by local communities through a profit-sharing mechanism, which invests in community development and low-carbon livelihoods programs.'), HumanMessage(content='Why is the Sumatra Merang Peatland project so important to the surrounding local communities?'), AIMessage(content=\"According to the provided context, local communities play a significant role in the Sumatra Merang Peatland project. The project strengthens fire management and forest patrol through regular interaction with local community members, law enforcement, and Ministry of Forestry officials. The project's efforts to reduce logging and rehabilitate peatlands have been received positively by local communities, as this improves the health of the landscape.\\n\\nThe project also benefits local communities in several ways. For instance, it creates jobs, with 25% of the jobs created being held by women. Additionally, the project engages local people through community-led development and direct employment of 145 residents from the local area for dam construction, forest patrols, and other activities. The project also supports local enterprises, such as sustainable fish production, and has supported 12 fishermen through the river networks.\\n\\nOverall, the project's focus on community engagement and development aims to improve the well-being of local communities while also conserving the peatland ecosystem.\"), HumanMessage(content='thank you'), AIMessage(content='According to the provided context, the main challenges faced by local communities in the Sumatra Merang Peatland project area are:\\n\\n* Public health challenges due to lack of access to clean water and sanitation infrastructure, making them susceptible to waterborne diseases.\\n* Limited access to education programs.\\n\\nThe project aims to address these challenges through:\\n\\n* A profit-sharing mechanism, where climate finance invests in community development and low-carbon livelihoods programs.\\n* Participatory assessments of needs in local villages to identify development initiatives that support the community.\\n* Investing funds to improve public health where appropriate, such as contributing to public health campaigns, water/sanitation infrastructure, and education programs.\\n* Developing sustainable livelihood programs with villages near the project area.')]}\n"
          ]
        }
      ]
    },
    {
      "cell_type": "code",
      "source": [],
      "metadata": {
        "id": "Og8YGMyWU6G2"
      },
      "execution_count": null,
      "outputs": []
    }
  ]
}